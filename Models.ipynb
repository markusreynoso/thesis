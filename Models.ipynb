{
  "nbformat": 4,
  "nbformat_minor": 0,
  "metadata": {
    "colab": {
      "provenance": [],
      "collapsed_sections": [
        "j6ObuC52jo_J",
        "j8IjpjDas5Mc"
      ]
    },
    "kernelspec": {
      "name": "python3",
      "display_name": "Python 3"
    },
    "language_info": {
      "name": "python"
    }
  },
  "cells": [
    {
      "cell_type": "code",
      "execution_count": 1,
      "metadata": {
        "id": "B1UWE1xGi9z1"
      },
      "outputs": [],
      "source": [
        "import pandas as pd\n",
        "from MLP import *\n",
        "from sklearn.preprocessing import StandardScaler\n",
        "import matplotlib.pyplot as plt\n",
        "import copy\n",
        "import seaborn as sns\n",
        "import plotly.express as px\n",
        "import pandas as pd\n",
        "import numpy as np"
      ]
    },
    {
      "cell_type": "markdown",
      "source": [
        "# Dataset Preprocessing"
      ],
      "metadata": {
        "id": "j6ObuC52jo_J"
      }
    },
    {
      "cell_type": "code",
      "source": [
        "df = pd.read_csv('https://raw.githubusercontent.com/markusreynoso/dashboard-datasets/refs/heads/main/Thesis/cancer_classification.csv')\n",
        "df.info()"
      ],
      "metadata": {
        "id": "NZF-6OaujqR4",
        "colab": {
          "base_uri": "https://localhost:8080/"
        },
        "outputId": "1e4448f6-c479-426f-a6d7-bb0bb477b29f"
      },
      "execution_count": 2,
      "outputs": [
        {
          "output_type": "stream",
          "name": "stdout",
          "text": [
            "<class 'pandas.core.frame.DataFrame'>\n",
            "RangeIndex: 569 entries, 0 to 568\n",
            "Data columns (total 31 columns):\n",
            " #   Column                   Non-Null Count  Dtype  \n",
            "---  ------                   --------------  -----  \n",
            " 0   mean radius              569 non-null    float64\n",
            " 1   mean texture             569 non-null    float64\n",
            " 2   mean perimeter           569 non-null    float64\n",
            " 3   mean area                569 non-null    float64\n",
            " 4   mean smoothness          569 non-null    float64\n",
            " 5   mean compactness         569 non-null    float64\n",
            " 6   mean concavity           569 non-null    float64\n",
            " 7   mean concave points      569 non-null    float64\n",
            " 8   mean symmetry            569 non-null    float64\n",
            " 9   mean fractal dimension   569 non-null    float64\n",
            " 10  radius error             569 non-null    float64\n",
            " 11  texture error            569 non-null    float64\n",
            " 12  perimeter error          569 non-null    float64\n",
            " 13  area error               569 non-null    float64\n",
            " 14  smoothness error         569 non-null    float64\n",
            " 15  compactness error        569 non-null    float64\n",
            " 16  concavity error          569 non-null    float64\n",
            " 17  concave points error     569 non-null    float64\n",
            " 18  symmetry error           569 non-null    float64\n",
            " 19  fractal dimension error  569 non-null    float64\n",
            " 20  worst radius             569 non-null    float64\n",
            " 21  worst texture            569 non-null    float64\n",
            " 22  worst perimeter          569 non-null    float64\n",
            " 23  worst area               569 non-null    float64\n",
            " 24  worst smoothness         569 non-null    float64\n",
            " 25  worst compactness        569 non-null    float64\n",
            " 26  worst concavity          569 non-null    float64\n",
            " 27  worst concave points     569 non-null    float64\n",
            " 28  worst symmetry           569 non-null    float64\n",
            " 29  worst fractal dimension  569 non-null    float64\n",
            " 30  benign_0__mal_1          569 non-null    int64  \n",
            "dtypes: float64(30), int64(1)\n",
            "memory usage: 137.9 KB\n"
          ]
        }
      ]
    },
    {
      "cell_type": "code",
      "source": [
        "df.head()"
      ],
      "metadata": {
        "colab": {
          "base_uri": "https://localhost:8080/",
          "height": 0
        },
        "id": "Vrdp1_96j1bw",
        "outputId": "119c3485-0a54-4f78-aac2-ecf0ba0bc0b6"
      },
      "execution_count": 3,
      "outputs": [
        {
          "output_type": "execute_result",
          "data": {
            "text/plain": [
              "   mean radius  mean texture  mean perimeter  mean area  mean smoothness  \\\n",
              "0        17.99         10.38          122.80     1001.0          0.11840   \n",
              "1        20.57         17.77          132.90     1326.0          0.08474   \n",
              "2        19.69         21.25          130.00     1203.0          0.10960   \n",
              "3        11.42         20.38           77.58      386.1          0.14250   \n",
              "4        20.29         14.34          135.10     1297.0          0.10030   \n",
              "\n",
              "   mean compactness  mean concavity  mean concave points  mean symmetry  \\\n",
              "0           0.27760          0.3001              0.14710         0.2419   \n",
              "1           0.07864          0.0869              0.07017         0.1812   \n",
              "2           0.15990          0.1974              0.12790         0.2069   \n",
              "3           0.28390          0.2414              0.10520         0.2597   \n",
              "4           0.13280          0.1980              0.10430         0.1809   \n",
              "\n",
              "   mean fractal dimension  ...  worst texture  worst perimeter  worst area  \\\n",
              "0                 0.07871  ...          17.33           184.60      2019.0   \n",
              "1                 0.05667  ...          23.41           158.80      1956.0   \n",
              "2                 0.05999  ...          25.53           152.50      1709.0   \n",
              "3                 0.09744  ...          26.50            98.87       567.7   \n",
              "4                 0.05883  ...          16.67           152.20      1575.0   \n",
              "\n",
              "   worst smoothness  worst compactness  worst concavity  worst concave points  \\\n",
              "0            0.1622             0.6656           0.7119                0.2654   \n",
              "1            0.1238             0.1866           0.2416                0.1860   \n",
              "2            0.1444             0.4245           0.4504                0.2430   \n",
              "3            0.2098             0.8663           0.6869                0.2575   \n",
              "4            0.1374             0.2050           0.4000                0.1625   \n",
              "\n",
              "   worst symmetry  worst fractal dimension  benign_0__mal_1  \n",
              "0          0.4601                  0.11890                0  \n",
              "1          0.2750                  0.08902                0  \n",
              "2          0.3613                  0.08758                0  \n",
              "3          0.6638                  0.17300                0  \n",
              "4          0.2364                  0.07678                0  \n",
              "\n",
              "[5 rows x 31 columns]"
            ],
            "text/html": [
              "\n",
              "  <div id=\"df-c3f01bb6-8e91-44b8-9b57-f024794b6bad\" class=\"colab-df-container\">\n",
              "    <div>\n",
              "<style scoped>\n",
              "    .dataframe tbody tr th:only-of-type {\n",
              "        vertical-align: middle;\n",
              "    }\n",
              "\n",
              "    .dataframe tbody tr th {\n",
              "        vertical-align: top;\n",
              "    }\n",
              "\n",
              "    .dataframe thead th {\n",
              "        text-align: right;\n",
              "    }\n",
              "</style>\n",
              "<table border=\"1\" class=\"dataframe\">\n",
              "  <thead>\n",
              "    <tr style=\"text-align: right;\">\n",
              "      <th></th>\n",
              "      <th>mean radius</th>\n",
              "      <th>mean texture</th>\n",
              "      <th>mean perimeter</th>\n",
              "      <th>mean area</th>\n",
              "      <th>mean smoothness</th>\n",
              "      <th>mean compactness</th>\n",
              "      <th>mean concavity</th>\n",
              "      <th>mean concave points</th>\n",
              "      <th>mean symmetry</th>\n",
              "      <th>mean fractal dimension</th>\n",
              "      <th>...</th>\n",
              "      <th>worst texture</th>\n",
              "      <th>worst perimeter</th>\n",
              "      <th>worst area</th>\n",
              "      <th>worst smoothness</th>\n",
              "      <th>worst compactness</th>\n",
              "      <th>worst concavity</th>\n",
              "      <th>worst concave points</th>\n",
              "      <th>worst symmetry</th>\n",
              "      <th>worst fractal dimension</th>\n",
              "      <th>benign_0__mal_1</th>\n",
              "    </tr>\n",
              "  </thead>\n",
              "  <tbody>\n",
              "    <tr>\n",
              "      <th>0</th>\n",
              "      <td>17.99</td>\n",
              "      <td>10.38</td>\n",
              "      <td>122.80</td>\n",
              "      <td>1001.0</td>\n",
              "      <td>0.11840</td>\n",
              "      <td>0.27760</td>\n",
              "      <td>0.3001</td>\n",
              "      <td>0.14710</td>\n",
              "      <td>0.2419</td>\n",
              "      <td>0.07871</td>\n",
              "      <td>...</td>\n",
              "      <td>17.33</td>\n",
              "      <td>184.60</td>\n",
              "      <td>2019.0</td>\n",
              "      <td>0.1622</td>\n",
              "      <td>0.6656</td>\n",
              "      <td>0.7119</td>\n",
              "      <td>0.2654</td>\n",
              "      <td>0.4601</td>\n",
              "      <td>0.11890</td>\n",
              "      <td>0</td>\n",
              "    </tr>\n",
              "    <tr>\n",
              "      <th>1</th>\n",
              "      <td>20.57</td>\n",
              "      <td>17.77</td>\n",
              "      <td>132.90</td>\n",
              "      <td>1326.0</td>\n",
              "      <td>0.08474</td>\n",
              "      <td>0.07864</td>\n",
              "      <td>0.0869</td>\n",
              "      <td>0.07017</td>\n",
              "      <td>0.1812</td>\n",
              "      <td>0.05667</td>\n",
              "      <td>...</td>\n",
              "      <td>23.41</td>\n",
              "      <td>158.80</td>\n",
              "      <td>1956.0</td>\n",
              "      <td>0.1238</td>\n",
              "      <td>0.1866</td>\n",
              "      <td>0.2416</td>\n",
              "      <td>0.1860</td>\n",
              "      <td>0.2750</td>\n",
              "      <td>0.08902</td>\n",
              "      <td>0</td>\n",
              "    </tr>\n",
              "    <tr>\n",
              "      <th>2</th>\n",
              "      <td>19.69</td>\n",
              "      <td>21.25</td>\n",
              "      <td>130.00</td>\n",
              "      <td>1203.0</td>\n",
              "      <td>0.10960</td>\n",
              "      <td>0.15990</td>\n",
              "      <td>0.1974</td>\n",
              "      <td>0.12790</td>\n",
              "      <td>0.2069</td>\n",
              "      <td>0.05999</td>\n",
              "      <td>...</td>\n",
              "      <td>25.53</td>\n",
              "      <td>152.50</td>\n",
              "      <td>1709.0</td>\n",
              "      <td>0.1444</td>\n",
              "      <td>0.4245</td>\n",
              "      <td>0.4504</td>\n",
              "      <td>0.2430</td>\n",
              "      <td>0.3613</td>\n",
              "      <td>0.08758</td>\n",
              "      <td>0</td>\n",
              "    </tr>\n",
              "    <tr>\n",
              "      <th>3</th>\n",
              "      <td>11.42</td>\n",
              "      <td>20.38</td>\n",
              "      <td>77.58</td>\n",
              "      <td>386.1</td>\n",
              "      <td>0.14250</td>\n",
              "      <td>0.28390</td>\n",
              "      <td>0.2414</td>\n",
              "      <td>0.10520</td>\n",
              "      <td>0.2597</td>\n",
              "      <td>0.09744</td>\n",
              "      <td>...</td>\n",
              "      <td>26.50</td>\n",
              "      <td>98.87</td>\n",
              "      <td>567.7</td>\n",
              "      <td>0.2098</td>\n",
              "      <td>0.8663</td>\n",
              "      <td>0.6869</td>\n",
              "      <td>0.2575</td>\n",
              "      <td>0.6638</td>\n",
              "      <td>0.17300</td>\n",
              "      <td>0</td>\n",
              "    </tr>\n",
              "    <tr>\n",
              "      <th>4</th>\n",
              "      <td>20.29</td>\n",
              "      <td>14.34</td>\n",
              "      <td>135.10</td>\n",
              "      <td>1297.0</td>\n",
              "      <td>0.10030</td>\n",
              "      <td>0.13280</td>\n",
              "      <td>0.1980</td>\n",
              "      <td>0.10430</td>\n",
              "      <td>0.1809</td>\n",
              "      <td>0.05883</td>\n",
              "      <td>...</td>\n",
              "      <td>16.67</td>\n",
              "      <td>152.20</td>\n",
              "      <td>1575.0</td>\n",
              "      <td>0.1374</td>\n",
              "      <td>0.2050</td>\n",
              "      <td>0.4000</td>\n",
              "      <td>0.1625</td>\n",
              "      <td>0.2364</td>\n",
              "      <td>0.07678</td>\n",
              "      <td>0</td>\n",
              "    </tr>\n",
              "  </tbody>\n",
              "</table>\n",
              "<p>5 rows × 31 columns</p>\n",
              "</div>\n",
              "    <div class=\"colab-df-buttons\">\n",
              "\n",
              "  <div class=\"colab-df-container\">\n",
              "    <button class=\"colab-df-convert\" onclick=\"convertToInteractive('df-c3f01bb6-8e91-44b8-9b57-f024794b6bad')\"\n",
              "            title=\"Convert this dataframe to an interactive table.\"\n",
              "            style=\"display:none;\">\n",
              "\n",
              "  <svg xmlns=\"http://www.w3.org/2000/svg\" height=\"24px\" viewBox=\"0 -960 960 960\">\n",
              "    <path d=\"M120-120v-720h720v720H120Zm60-500h600v-160H180v160Zm220 220h160v-160H400v160Zm0 220h160v-160H400v160ZM180-400h160v-160H180v160Zm440 0h160v-160H620v160ZM180-180h160v-160H180v160Zm440 0h160v-160H620v160Z\"/>\n",
              "  </svg>\n",
              "    </button>\n",
              "\n",
              "  <style>\n",
              "    .colab-df-container {\n",
              "      display:flex;\n",
              "      gap: 12px;\n",
              "    }\n",
              "\n",
              "    .colab-df-convert {\n",
              "      background-color: #E8F0FE;\n",
              "      border: none;\n",
              "      border-radius: 50%;\n",
              "      cursor: pointer;\n",
              "      display: none;\n",
              "      fill: #1967D2;\n",
              "      height: 32px;\n",
              "      padding: 0 0 0 0;\n",
              "      width: 32px;\n",
              "    }\n",
              "\n",
              "    .colab-df-convert:hover {\n",
              "      background-color: #E2EBFA;\n",
              "      box-shadow: 0px 1px 2px rgba(60, 64, 67, 0.3), 0px 1px 3px 1px rgba(60, 64, 67, 0.15);\n",
              "      fill: #174EA6;\n",
              "    }\n",
              "\n",
              "    .colab-df-buttons div {\n",
              "      margin-bottom: 4px;\n",
              "    }\n",
              "\n",
              "    [theme=dark] .colab-df-convert {\n",
              "      background-color: #3B4455;\n",
              "      fill: #D2E3FC;\n",
              "    }\n",
              "\n",
              "    [theme=dark] .colab-df-convert:hover {\n",
              "      background-color: #434B5C;\n",
              "      box-shadow: 0px 1px 3px 1px rgba(0, 0, 0, 0.15);\n",
              "      filter: drop-shadow(0px 1px 2px rgba(0, 0, 0, 0.3));\n",
              "      fill: #FFFFFF;\n",
              "    }\n",
              "  </style>\n",
              "\n",
              "    <script>\n",
              "      const buttonEl =\n",
              "        document.querySelector('#df-c3f01bb6-8e91-44b8-9b57-f024794b6bad button.colab-df-convert');\n",
              "      buttonEl.style.display =\n",
              "        google.colab.kernel.accessAllowed ? 'block' : 'none';\n",
              "\n",
              "      async function convertToInteractive(key) {\n",
              "        const element = document.querySelector('#df-c3f01bb6-8e91-44b8-9b57-f024794b6bad');\n",
              "        const dataTable =\n",
              "          await google.colab.kernel.invokeFunction('convertToInteractive',\n",
              "                                                    [key], {});\n",
              "        if (!dataTable) return;\n",
              "\n",
              "        const docLinkHtml = 'Like what you see? Visit the ' +\n",
              "          '<a target=\"_blank\" href=https://colab.research.google.com/notebooks/data_table.ipynb>data table notebook</a>'\n",
              "          + ' to learn more about interactive tables.';\n",
              "        element.innerHTML = '';\n",
              "        dataTable['output_type'] = 'display_data';\n",
              "        await google.colab.output.renderOutput(dataTable, element);\n",
              "        const docLink = document.createElement('div');\n",
              "        docLink.innerHTML = docLinkHtml;\n",
              "        element.appendChild(docLink);\n",
              "      }\n",
              "    </script>\n",
              "  </div>\n",
              "\n",
              "\n",
              "    <div id=\"df-9a478717-d8cf-4a33-8823-4e50e8d0021d\">\n",
              "      <button class=\"colab-df-quickchart\" onclick=\"quickchart('df-9a478717-d8cf-4a33-8823-4e50e8d0021d')\"\n",
              "                title=\"Suggest charts\"\n",
              "                style=\"display:none;\">\n",
              "\n",
              "<svg xmlns=\"http://www.w3.org/2000/svg\" height=\"24px\"viewBox=\"0 0 24 24\"\n",
              "     width=\"24px\">\n",
              "    <g>\n",
              "        <path d=\"M19 3H5c-1.1 0-2 .9-2 2v14c0 1.1.9 2 2 2h14c1.1 0 2-.9 2-2V5c0-1.1-.9-2-2-2zM9 17H7v-7h2v7zm4 0h-2V7h2v10zm4 0h-2v-4h2v4z\"/>\n",
              "    </g>\n",
              "</svg>\n",
              "      </button>\n",
              "\n",
              "<style>\n",
              "  .colab-df-quickchart {\n",
              "      --bg-color: #E8F0FE;\n",
              "      --fill-color: #1967D2;\n",
              "      --hover-bg-color: #E2EBFA;\n",
              "      --hover-fill-color: #174EA6;\n",
              "      --disabled-fill-color: #AAA;\n",
              "      --disabled-bg-color: #DDD;\n",
              "  }\n",
              "\n",
              "  [theme=dark] .colab-df-quickchart {\n",
              "      --bg-color: #3B4455;\n",
              "      --fill-color: #D2E3FC;\n",
              "      --hover-bg-color: #434B5C;\n",
              "      --hover-fill-color: #FFFFFF;\n",
              "      --disabled-bg-color: #3B4455;\n",
              "      --disabled-fill-color: #666;\n",
              "  }\n",
              "\n",
              "  .colab-df-quickchart {\n",
              "    background-color: var(--bg-color);\n",
              "    border: none;\n",
              "    border-radius: 50%;\n",
              "    cursor: pointer;\n",
              "    display: none;\n",
              "    fill: var(--fill-color);\n",
              "    height: 32px;\n",
              "    padding: 0;\n",
              "    width: 32px;\n",
              "  }\n",
              "\n",
              "  .colab-df-quickchart:hover {\n",
              "    background-color: var(--hover-bg-color);\n",
              "    box-shadow: 0 1px 2px rgba(60, 64, 67, 0.3), 0 1px 3px 1px rgba(60, 64, 67, 0.15);\n",
              "    fill: var(--button-hover-fill-color);\n",
              "  }\n",
              "\n",
              "  .colab-df-quickchart-complete:disabled,\n",
              "  .colab-df-quickchart-complete:disabled:hover {\n",
              "    background-color: var(--disabled-bg-color);\n",
              "    fill: var(--disabled-fill-color);\n",
              "    box-shadow: none;\n",
              "  }\n",
              "\n",
              "  .colab-df-spinner {\n",
              "    border: 2px solid var(--fill-color);\n",
              "    border-color: transparent;\n",
              "    border-bottom-color: var(--fill-color);\n",
              "    animation:\n",
              "      spin 1s steps(1) infinite;\n",
              "  }\n",
              "\n",
              "  @keyframes spin {\n",
              "    0% {\n",
              "      border-color: transparent;\n",
              "      border-bottom-color: var(--fill-color);\n",
              "      border-left-color: var(--fill-color);\n",
              "    }\n",
              "    20% {\n",
              "      border-color: transparent;\n",
              "      border-left-color: var(--fill-color);\n",
              "      border-top-color: var(--fill-color);\n",
              "    }\n",
              "    30% {\n",
              "      border-color: transparent;\n",
              "      border-left-color: var(--fill-color);\n",
              "      border-top-color: var(--fill-color);\n",
              "      border-right-color: var(--fill-color);\n",
              "    }\n",
              "    40% {\n",
              "      border-color: transparent;\n",
              "      border-right-color: var(--fill-color);\n",
              "      border-top-color: var(--fill-color);\n",
              "    }\n",
              "    60% {\n",
              "      border-color: transparent;\n",
              "      border-right-color: var(--fill-color);\n",
              "    }\n",
              "    80% {\n",
              "      border-color: transparent;\n",
              "      border-right-color: var(--fill-color);\n",
              "      border-bottom-color: var(--fill-color);\n",
              "    }\n",
              "    90% {\n",
              "      border-color: transparent;\n",
              "      border-bottom-color: var(--fill-color);\n",
              "    }\n",
              "  }\n",
              "</style>\n",
              "\n",
              "      <script>\n",
              "        async function quickchart(key) {\n",
              "          const quickchartButtonEl =\n",
              "            document.querySelector('#' + key + ' button');\n",
              "          quickchartButtonEl.disabled = true;  // To prevent multiple clicks.\n",
              "          quickchartButtonEl.classList.add('colab-df-spinner');\n",
              "          try {\n",
              "            const charts = await google.colab.kernel.invokeFunction(\n",
              "                'suggestCharts', [key], {});\n",
              "          } catch (error) {\n",
              "            console.error('Error during call to suggestCharts:', error);\n",
              "          }\n",
              "          quickchartButtonEl.classList.remove('colab-df-spinner');\n",
              "          quickchartButtonEl.classList.add('colab-df-quickchart-complete');\n",
              "        }\n",
              "        (() => {\n",
              "          let quickchartButtonEl =\n",
              "            document.querySelector('#df-9a478717-d8cf-4a33-8823-4e50e8d0021d button');\n",
              "          quickchartButtonEl.style.display =\n",
              "            google.colab.kernel.accessAllowed ? 'block' : 'none';\n",
              "        })();\n",
              "      </script>\n",
              "    </div>\n",
              "\n",
              "    </div>\n",
              "  </div>\n"
            ],
            "application/vnd.google.colaboratory.intrinsic+json": {
              "type": "dataframe",
              "variable_name": "df"
            }
          },
          "metadata": {},
          "execution_count": 3
        }
      ]
    },
    {
      "cell_type": "code",
      "source": [
        "df.columns = [x.strip().replace(' ', '_').lower() for x in df.columns]\n",
        "df.columns"
      ],
      "metadata": {
        "colab": {
          "base_uri": "https://localhost:8080/"
        },
        "id": "EMAUvbJqj5MY",
        "outputId": "a1fbac08-d13a-4399-f219-fddc992dd09c"
      },
      "execution_count": 4,
      "outputs": [
        {
          "output_type": "execute_result",
          "data": {
            "text/plain": [
              "Index(['mean_radius', 'mean_texture', 'mean_perimeter', 'mean_area',\n",
              "       'mean_smoothness', 'mean_compactness', 'mean_concavity',\n",
              "       'mean_concave_points', 'mean_symmetry', 'mean_fractal_dimension',\n",
              "       'radius_error', 'texture_error', 'perimeter_error', 'area_error',\n",
              "       'smoothness_error', 'compactness_error', 'concavity_error',\n",
              "       'concave_points_error', 'symmetry_error', 'fractal_dimension_error',\n",
              "       'worst_radius', 'worst_texture', 'worst_perimeter', 'worst_area',\n",
              "       'worst_smoothness', 'worst_compactness', 'worst_concavity',\n",
              "       'worst_concave_points', 'worst_symmetry', 'worst_fractal_dimension',\n",
              "       'benign_0__mal_1'],\n",
              "      dtype='object')"
            ]
          },
          "metadata": {},
          "execution_count": 4
        }
      ]
    },
    {
      "cell_type": "code",
      "source": [
        "df = df.sample(frac=1, random_state=15)\n",
        "df.head()"
      ],
      "metadata": {
        "colab": {
          "base_uri": "https://localhost:8080/",
          "height": 0
        },
        "id": "uVoO2tRdilfb",
        "outputId": "01225573-0de8-4508-ca4c-0e5a5e66ef2d"
      },
      "execution_count": 5,
      "outputs": [
        {
          "output_type": "execute_result",
          "data": {
            "text/plain": [
              "     mean_radius  mean_texture  mean_perimeter  mean_area  mean_smoothness  \\\n",
              "350       11.660         17.07           73.70      421.0          0.07561   \n",
              "222       10.180         17.53           65.12      313.1          0.10610   \n",
              "141       16.110         18.05          105.10      813.0          0.09721   \n",
              "447       14.800         17.66           95.88      674.8          0.09179   \n",
              "103        9.876         19.40           63.95      298.3          0.10050   \n",
              "\n",
              "     mean_compactness  mean_concavity  mean_concave_points  mean_symmetry  \\\n",
              "350           0.03630        0.008306              0.01162         0.1671   \n",
              "222           0.08502        0.017680              0.01915         0.1910   \n",
              "141           0.11370        0.094470              0.05943         0.1861   \n",
              "447           0.08890        0.040690              0.02260         0.1893   \n",
              "103           0.09697        0.061540              0.03029         0.1945   \n",
              "\n",
              "     mean_fractal_dimension  ...  worst_texture  worst_perimeter  worst_area  \\\n",
              "350                 0.05731  ...          19.74            83.61       542.5   \n",
              "222                 0.06908  ...          22.84            71.94       375.6   \n",
              "141                 0.06248  ...          25.27           129.00      1233.0   \n",
              "447                 0.05886  ...          22.74           105.90       829.5   \n",
              "103                 0.06322  ...          26.83            72.22       361.2   \n",
              "\n",
              "     worst_smoothness  worst_compactness  worst_concavity  \\\n",
              "350           0.09958            0.06476          0.03046   \n",
              "222           0.14060            0.14400          0.06572   \n",
              "141           0.13140            0.22360          0.28020   \n",
              "447           0.12260            0.18810          0.20600   \n",
              "103           0.15590            0.23020          0.26440   \n",
              "\n",
              "     worst_concave_points  worst_symmetry  worst_fractal_dimension  \\\n",
              "350               0.04262          0.2731                  0.06825   \n",
              "222               0.05575          0.3055                  0.08797   \n",
              "141               0.12160          0.2792                  0.08158   \n",
              "447               0.08308          0.3600                  0.07285   \n",
              "103               0.09749          0.2622                  0.08490   \n",
              "\n",
              "     benign_0__mal_1  \n",
              "350                1  \n",
              "222                1  \n",
              "141                0  \n",
              "447                1  \n",
              "103                1  \n",
              "\n",
              "[5 rows x 31 columns]"
            ],
            "text/html": [
              "\n",
              "  <div id=\"df-2cf7d98a-6210-4bd5-b0d3-f605adfff3dc\" class=\"colab-df-container\">\n",
              "    <div>\n",
              "<style scoped>\n",
              "    .dataframe tbody tr th:only-of-type {\n",
              "        vertical-align: middle;\n",
              "    }\n",
              "\n",
              "    .dataframe tbody tr th {\n",
              "        vertical-align: top;\n",
              "    }\n",
              "\n",
              "    .dataframe thead th {\n",
              "        text-align: right;\n",
              "    }\n",
              "</style>\n",
              "<table border=\"1\" class=\"dataframe\">\n",
              "  <thead>\n",
              "    <tr style=\"text-align: right;\">\n",
              "      <th></th>\n",
              "      <th>mean_radius</th>\n",
              "      <th>mean_texture</th>\n",
              "      <th>mean_perimeter</th>\n",
              "      <th>mean_area</th>\n",
              "      <th>mean_smoothness</th>\n",
              "      <th>mean_compactness</th>\n",
              "      <th>mean_concavity</th>\n",
              "      <th>mean_concave_points</th>\n",
              "      <th>mean_symmetry</th>\n",
              "      <th>mean_fractal_dimension</th>\n",
              "      <th>...</th>\n",
              "      <th>worst_texture</th>\n",
              "      <th>worst_perimeter</th>\n",
              "      <th>worst_area</th>\n",
              "      <th>worst_smoothness</th>\n",
              "      <th>worst_compactness</th>\n",
              "      <th>worst_concavity</th>\n",
              "      <th>worst_concave_points</th>\n",
              "      <th>worst_symmetry</th>\n",
              "      <th>worst_fractal_dimension</th>\n",
              "      <th>benign_0__mal_1</th>\n",
              "    </tr>\n",
              "  </thead>\n",
              "  <tbody>\n",
              "    <tr>\n",
              "      <th>350</th>\n",
              "      <td>11.660</td>\n",
              "      <td>17.07</td>\n",
              "      <td>73.70</td>\n",
              "      <td>421.0</td>\n",
              "      <td>0.07561</td>\n",
              "      <td>0.03630</td>\n",
              "      <td>0.008306</td>\n",
              "      <td>0.01162</td>\n",
              "      <td>0.1671</td>\n",
              "      <td>0.05731</td>\n",
              "      <td>...</td>\n",
              "      <td>19.74</td>\n",
              "      <td>83.61</td>\n",
              "      <td>542.5</td>\n",
              "      <td>0.09958</td>\n",
              "      <td>0.06476</td>\n",
              "      <td>0.03046</td>\n",
              "      <td>0.04262</td>\n",
              "      <td>0.2731</td>\n",
              "      <td>0.06825</td>\n",
              "      <td>1</td>\n",
              "    </tr>\n",
              "    <tr>\n",
              "      <th>222</th>\n",
              "      <td>10.180</td>\n",
              "      <td>17.53</td>\n",
              "      <td>65.12</td>\n",
              "      <td>313.1</td>\n",
              "      <td>0.10610</td>\n",
              "      <td>0.08502</td>\n",
              "      <td>0.017680</td>\n",
              "      <td>0.01915</td>\n",
              "      <td>0.1910</td>\n",
              "      <td>0.06908</td>\n",
              "      <td>...</td>\n",
              "      <td>22.84</td>\n",
              "      <td>71.94</td>\n",
              "      <td>375.6</td>\n",
              "      <td>0.14060</td>\n",
              "      <td>0.14400</td>\n",
              "      <td>0.06572</td>\n",
              "      <td>0.05575</td>\n",
              "      <td>0.3055</td>\n",
              "      <td>0.08797</td>\n",
              "      <td>1</td>\n",
              "    </tr>\n",
              "    <tr>\n",
              "      <th>141</th>\n",
              "      <td>16.110</td>\n",
              "      <td>18.05</td>\n",
              "      <td>105.10</td>\n",
              "      <td>813.0</td>\n",
              "      <td>0.09721</td>\n",
              "      <td>0.11370</td>\n",
              "      <td>0.094470</td>\n",
              "      <td>0.05943</td>\n",
              "      <td>0.1861</td>\n",
              "      <td>0.06248</td>\n",
              "      <td>...</td>\n",
              "      <td>25.27</td>\n",
              "      <td>129.00</td>\n",
              "      <td>1233.0</td>\n",
              "      <td>0.13140</td>\n",
              "      <td>0.22360</td>\n",
              "      <td>0.28020</td>\n",
              "      <td>0.12160</td>\n",
              "      <td>0.2792</td>\n",
              "      <td>0.08158</td>\n",
              "      <td>0</td>\n",
              "    </tr>\n",
              "    <tr>\n",
              "      <th>447</th>\n",
              "      <td>14.800</td>\n",
              "      <td>17.66</td>\n",
              "      <td>95.88</td>\n",
              "      <td>674.8</td>\n",
              "      <td>0.09179</td>\n",
              "      <td>0.08890</td>\n",
              "      <td>0.040690</td>\n",
              "      <td>0.02260</td>\n",
              "      <td>0.1893</td>\n",
              "      <td>0.05886</td>\n",
              "      <td>...</td>\n",
              "      <td>22.74</td>\n",
              "      <td>105.90</td>\n",
              "      <td>829.5</td>\n",
              "      <td>0.12260</td>\n",
              "      <td>0.18810</td>\n",
              "      <td>0.20600</td>\n",
              "      <td>0.08308</td>\n",
              "      <td>0.3600</td>\n",
              "      <td>0.07285</td>\n",
              "      <td>1</td>\n",
              "    </tr>\n",
              "    <tr>\n",
              "      <th>103</th>\n",
              "      <td>9.876</td>\n",
              "      <td>19.40</td>\n",
              "      <td>63.95</td>\n",
              "      <td>298.3</td>\n",
              "      <td>0.10050</td>\n",
              "      <td>0.09697</td>\n",
              "      <td>0.061540</td>\n",
              "      <td>0.03029</td>\n",
              "      <td>0.1945</td>\n",
              "      <td>0.06322</td>\n",
              "      <td>...</td>\n",
              "      <td>26.83</td>\n",
              "      <td>72.22</td>\n",
              "      <td>361.2</td>\n",
              "      <td>0.15590</td>\n",
              "      <td>0.23020</td>\n",
              "      <td>0.26440</td>\n",
              "      <td>0.09749</td>\n",
              "      <td>0.2622</td>\n",
              "      <td>0.08490</td>\n",
              "      <td>1</td>\n",
              "    </tr>\n",
              "  </tbody>\n",
              "</table>\n",
              "<p>5 rows × 31 columns</p>\n",
              "</div>\n",
              "    <div class=\"colab-df-buttons\">\n",
              "\n",
              "  <div class=\"colab-df-container\">\n",
              "    <button class=\"colab-df-convert\" onclick=\"convertToInteractive('df-2cf7d98a-6210-4bd5-b0d3-f605adfff3dc')\"\n",
              "            title=\"Convert this dataframe to an interactive table.\"\n",
              "            style=\"display:none;\">\n",
              "\n",
              "  <svg xmlns=\"http://www.w3.org/2000/svg\" height=\"24px\" viewBox=\"0 -960 960 960\">\n",
              "    <path d=\"M120-120v-720h720v720H120Zm60-500h600v-160H180v160Zm220 220h160v-160H400v160Zm0 220h160v-160H400v160ZM180-400h160v-160H180v160Zm440 0h160v-160H620v160ZM180-180h160v-160H180v160Zm440 0h160v-160H620v160Z\"/>\n",
              "  </svg>\n",
              "    </button>\n",
              "\n",
              "  <style>\n",
              "    .colab-df-container {\n",
              "      display:flex;\n",
              "      gap: 12px;\n",
              "    }\n",
              "\n",
              "    .colab-df-convert {\n",
              "      background-color: #E8F0FE;\n",
              "      border: none;\n",
              "      border-radius: 50%;\n",
              "      cursor: pointer;\n",
              "      display: none;\n",
              "      fill: #1967D2;\n",
              "      height: 32px;\n",
              "      padding: 0 0 0 0;\n",
              "      width: 32px;\n",
              "    }\n",
              "\n",
              "    .colab-df-convert:hover {\n",
              "      background-color: #E2EBFA;\n",
              "      box-shadow: 0px 1px 2px rgba(60, 64, 67, 0.3), 0px 1px 3px 1px rgba(60, 64, 67, 0.15);\n",
              "      fill: #174EA6;\n",
              "    }\n",
              "\n",
              "    .colab-df-buttons div {\n",
              "      margin-bottom: 4px;\n",
              "    }\n",
              "\n",
              "    [theme=dark] .colab-df-convert {\n",
              "      background-color: #3B4455;\n",
              "      fill: #D2E3FC;\n",
              "    }\n",
              "\n",
              "    [theme=dark] .colab-df-convert:hover {\n",
              "      background-color: #434B5C;\n",
              "      box-shadow: 0px 1px 3px 1px rgba(0, 0, 0, 0.15);\n",
              "      filter: drop-shadow(0px 1px 2px rgba(0, 0, 0, 0.3));\n",
              "      fill: #FFFFFF;\n",
              "    }\n",
              "  </style>\n",
              "\n",
              "    <script>\n",
              "      const buttonEl =\n",
              "        document.querySelector('#df-2cf7d98a-6210-4bd5-b0d3-f605adfff3dc button.colab-df-convert');\n",
              "      buttonEl.style.display =\n",
              "        google.colab.kernel.accessAllowed ? 'block' : 'none';\n",
              "\n",
              "      async function convertToInteractive(key) {\n",
              "        const element = document.querySelector('#df-2cf7d98a-6210-4bd5-b0d3-f605adfff3dc');\n",
              "        const dataTable =\n",
              "          await google.colab.kernel.invokeFunction('convertToInteractive',\n",
              "                                                    [key], {});\n",
              "        if (!dataTable) return;\n",
              "\n",
              "        const docLinkHtml = 'Like what you see? Visit the ' +\n",
              "          '<a target=\"_blank\" href=https://colab.research.google.com/notebooks/data_table.ipynb>data table notebook</a>'\n",
              "          + ' to learn more about interactive tables.';\n",
              "        element.innerHTML = '';\n",
              "        dataTable['output_type'] = 'display_data';\n",
              "        await google.colab.output.renderOutput(dataTable, element);\n",
              "        const docLink = document.createElement('div');\n",
              "        docLink.innerHTML = docLinkHtml;\n",
              "        element.appendChild(docLink);\n",
              "      }\n",
              "    </script>\n",
              "  </div>\n",
              "\n",
              "\n",
              "    <div id=\"df-0495ed9e-ff4f-4871-995b-a85f23ad1b93\">\n",
              "      <button class=\"colab-df-quickchart\" onclick=\"quickchart('df-0495ed9e-ff4f-4871-995b-a85f23ad1b93')\"\n",
              "                title=\"Suggest charts\"\n",
              "                style=\"display:none;\">\n",
              "\n",
              "<svg xmlns=\"http://www.w3.org/2000/svg\" height=\"24px\"viewBox=\"0 0 24 24\"\n",
              "     width=\"24px\">\n",
              "    <g>\n",
              "        <path d=\"M19 3H5c-1.1 0-2 .9-2 2v14c0 1.1.9 2 2 2h14c1.1 0 2-.9 2-2V5c0-1.1-.9-2-2-2zM9 17H7v-7h2v7zm4 0h-2V7h2v10zm4 0h-2v-4h2v4z\"/>\n",
              "    </g>\n",
              "</svg>\n",
              "      </button>\n",
              "\n",
              "<style>\n",
              "  .colab-df-quickchart {\n",
              "      --bg-color: #E8F0FE;\n",
              "      --fill-color: #1967D2;\n",
              "      --hover-bg-color: #E2EBFA;\n",
              "      --hover-fill-color: #174EA6;\n",
              "      --disabled-fill-color: #AAA;\n",
              "      --disabled-bg-color: #DDD;\n",
              "  }\n",
              "\n",
              "  [theme=dark] .colab-df-quickchart {\n",
              "      --bg-color: #3B4455;\n",
              "      --fill-color: #D2E3FC;\n",
              "      --hover-bg-color: #434B5C;\n",
              "      --hover-fill-color: #FFFFFF;\n",
              "      --disabled-bg-color: #3B4455;\n",
              "      --disabled-fill-color: #666;\n",
              "  }\n",
              "\n",
              "  .colab-df-quickchart {\n",
              "    background-color: var(--bg-color);\n",
              "    border: none;\n",
              "    border-radius: 50%;\n",
              "    cursor: pointer;\n",
              "    display: none;\n",
              "    fill: var(--fill-color);\n",
              "    height: 32px;\n",
              "    padding: 0;\n",
              "    width: 32px;\n",
              "  }\n",
              "\n",
              "  .colab-df-quickchart:hover {\n",
              "    background-color: var(--hover-bg-color);\n",
              "    box-shadow: 0 1px 2px rgba(60, 64, 67, 0.3), 0 1px 3px 1px rgba(60, 64, 67, 0.15);\n",
              "    fill: var(--button-hover-fill-color);\n",
              "  }\n",
              "\n",
              "  .colab-df-quickchart-complete:disabled,\n",
              "  .colab-df-quickchart-complete:disabled:hover {\n",
              "    background-color: var(--disabled-bg-color);\n",
              "    fill: var(--disabled-fill-color);\n",
              "    box-shadow: none;\n",
              "  }\n",
              "\n",
              "  .colab-df-spinner {\n",
              "    border: 2px solid var(--fill-color);\n",
              "    border-color: transparent;\n",
              "    border-bottom-color: var(--fill-color);\n",
              "    animation:\n",
              "      spin 1s steps(1) infinite;\n",
              "  }\n",
              "\n",
              "  @keyframes spin {\n",
              "    0% {\n",
              "      border-color: transparent;\n",
              "      border-bottom-color: var(--fill-color);\n",
              "      border-left-color: var(--fill-color);\n",
              "    }\n",
              "    20% {\n",
              "      border-color: transparent;\n",
              "      border-left-color: var(--fill-color);\n",
              "      border-top-color: var(--fill-color);\n",
              "    }\n",
              "    30% {\n",
              "      border-color: transparent;\n",
              "      border-left-color: var(--fill-color);\n",
              "      border-top-color: var(--fill-color);\n",
              "      border-right-color: var(--fill-color);\n",
              "    }\n",
              "    40% {\n",
              "      border-color: transparent;\n",
              "      border-right-color: var(--fill-color);\n",
              "      border-top-color: var(--fill-color);\n",
              "    }\n",
              "    60% {\n",
              "      border-color: transparent;\n",
              "      border-right-color: var(--fill-color);\n",
              "    }\n",
              "    80% {\n",
              "      border-color: transparent;\n",
              "      border-right-color: var(--fill-color);\n",
              "      border-bottom-color: var(--fill-color);\n",
              "    }\n",
              "    90% {\n",
              "      border-color: transparent;\n",
              "      border-bottom-color: var(--fill-color);\n",
              "    }\n",
              "  }\n",
              "</style>\n",
              "\n",
              "      <script>\n",
              "        async function quickchart(key) {\n",
              "          const quickchartButtonEl =\n",
              "            document.querySelector('#' + key + ' button');\n",
              "          quickchartButtonEl.disabled = true;  // To prevent multiple clicks.\n",
              "          quickchartButtonEl.classList.add('colab-df-spinner');\n",
              "          try {\n",
              "            const charts = await google.colab.kernel.invokeFunction(\n",
              "                'suggestCharts', [key], {});\n",
              "          } catch (error) {\n",
              "            console.error('Error during call to suggestCharts:', error);\n",
              "          }\n",
              "          quickchartButtonEl.classList.remove('colab-df-spinner');\n",
              "          quickchartButtonEl.classList.add('colab-df-quickchart-complete');\n",
              "        }\n",
              "        (() => {\n",
              "          let quickchartButtonEl =\n",
              "            document.querySelector('#df-0495ed9e-ff4f-4871-995b-a85f23ad1b93 button');\n",
              "          quickchartButtonEl.style.display =\n",
              "            google.colab.kernel.accessAllowed ? 'block' : 'none';\n",
              "        })();\n",
              "      </script>\n",
              "    </div>\n",
              "\n",
              "    </div>\n",
              "  </div>\n"
            ],
            "application/vnd.google.colaboratory.intrinsic+json": {
              "type": "dataframe",
              "variable_name": "df"
            }
          },
          "metadata": {},
          "execution_count": 5
        }
      ]
    },
    {
      "cell_type": "code",
      "source": [
        "X = df.loc[:, 'mean_radius':'worst_fractal_dimension'].to_numpy()\n",
        "X"
      ],
      "metadata": {
        "colab": {
          "base_uri": "https://localhost:8080/"
        },
        "id": "TtuSwwvHkgxA",
        "outputId": "9ba68993-c47c-43b7-beef-e15e7b3e1385"
      },
      "execution_count": 6,
      "outputs": [
        {
          "output_type": "execute_result",
          "data": {
            "text/plain": [
              "array([[1.166e+01, 1.707e+01, 7.370e+01, ..., 4.262e-02, 2.731e-01,\n",
              "        6.825e-02],\n",
              "       [1.018e+01, 1.753e+01, 6.512e+01, ..., 5.575e-02, 3.055e-01,\n",
              "        8.797e-02],\n",
              "       [1.611e+01, 1.805e+01, 1.051e+02, ..., 1.216e-01, 2.792e-01,\n",
              "        8.158e-02],\n",
              "       ...,\n",
              "       [1.768e+01, 2.074e+01, 1.174e+02, ..., 1.515e-01, 2.463e-01,\n",
              "        7.738e-02],\n",
              "       [1.328e+01, 1.372e+01, 8.579e+01, ..., 9.173e-02, 2.736e-01,\n",
              "        7.320e-02],\n",
              "       [1.163e+01, 2.929e+01, 7.487e+01, ..., 6.835e-02, 2.884e-01,\n",
              "        7.220e-02]])"
            ]
          },
          "metadata": {},
          "execution_count": 6
        }
      ]
    },
    {
      "cell_type": "code",
      "source": [
        "Y = pd.get_dummies(df['benign_0__mal_1']).astype(int).to_numpy()\n",
        "Y"
      ],
      "metadata": {
        "colab": {
          "base_uri": "https://localhost:8080/"
        },
        "id": "TpAxiOGdk5aA",
        "outputId": "fb9e057b-e860-4a8a-beee-24fb7c74477c"
      },
      "execution_count": 7,
      "outputs": [
        {
          "output_type": "execute_result",
          "data": {
            "text/plain": [
              "array([[0, 1],\n",
              "       [0, 1],\n",
              "       [1, 0],\n",
              "       ...,\n",
              "       [1, 0],\n",
              "       [0, 1],\n",
              "       [0, 1]])"
            ]
          },
          "metadata": {},
          "execution_count": 7
        }
      ]
    },
    {
      "cell_type": "markdown",
      "source": [
        "## Splitting"
      ],
      "metadata": {
        "id": "j8IjpjDas5Mc"
      }
    },
    {
      "cell_type": "code",
      "source": [
        "X.shape"
      ],
      "metadata": {
        "colab": {
          "base_uri": "https://localhost:8080/"
        },
        "id": "tlD5y8HomT6Q",
        "outputId": "b5072cac-0ce5-422b-a089-c6fd264218e0"
      },
      "execution_count": 8,
      "outputs": [
        {
          "output_type": "execute_result",
          "data": {
            "text/plain": [
              "(569, 30)"
            ]
          },
          "metadata": {},
          "execution_count": 8
        }
      ]
    },
    {
      "cell_type": "code",
      "source": [
        "round(X.shape[0] * 0.7)"
      ],
      "metadata": {
        "id": "ace3sFMSlvVo",
        "colab": {
          "base_uri": "https://localhost:8080/"
        },
        "outputId": "51f2e890-fc51-44bf-c6e7-a11d3e56657b"
      },
      "execution_count": 9,
      "outputs": [
        {
          "output_type": "execute_result",
          "data": {
            "text/plain": [
              "398"
            ]
          },
          "metadata": {},
          "execution_count": 9
        }
      ]
    },
    {
      "cell_type": "code",
      "source": [
        "round(X.shape[0] * 0.15)"
      ],
      "metadata": {
        "colab": {
          "base_uri": "https://localhost:8080/"
        },
        "id": "DmNgZlKoMVw_",
        "outputId": "409ce1cb-f913-4ec6-a453-0f05c753c88f"
      },
      "execution_count": 10,
      "outputs": [
        {
          "output_type": "execute_result",
          "data": {
            "text/plain": [
              "85"
            ]
          },
          "metadata": {},
          "execution_count": 10
        }
      ]
    },
    {
      "cell_type": "code",
      "source": [
        "398+85"
      ],
      "metadata": {
        "colab": {
          "base_uri": "https://localhost:8080/"
        },
        "id": "_3F5m_XeMYqZ",
        "outputId": "4184289c-7642-4d15-e75f-ff4ce552cd39"
      },
      "execution_count": 11,
      "outputs": [
        {
          "output_type": "execute_result",
          "data": {
            "text/plain": [
              "483"
            ]
          },
          "metadata": {},
          "execution_count": 11
        }
      ]
    },
    {
      "cell_type": "code",
      "source": [
        "scaler = StandardScaler()\n",
        "x_train, x_validate, x_test = scaler.fit_transform(X[:398]), scaler.fit_transform(X[398:483]), scaler.fit_transform(X[483:])\n",
        "y_train, y_validate, y_test = Y[:398], Y[398:483], Y[483:]"
      ],
      "metadata": {
        "id": "Yuo-QU6kl4GY"
      },
      "execution_count": 12,
      "outputs": []
    },
    {
      "cell_type": "code",
      "source": [
        "markus_val_acc_list = []\n",
        "sb_val_acc_list = []"
      ],
      "metadata": {
        "id": "oOXA45YanLIJ"
      },
      "execution_count": 13,
      "outputs": []
    },
    {
      "cell_type": "markdown",
      "source": [
        "# Main"
      ],
      "metadata": {
        "id": "G34e1FSulsD4"
      }
    },
    {
      "cell_type": "markdown",
      "source": [
        "## Training"
      ],
      "metadata": {
        "id": "A94kRWr8s9fK"
      }
    },
    {
      "cell_type": "code",
      "source": [
        "np.random.seed(15)"
      ],
      "metadata": {
        "id": "rdku_oK5PG2j"
      },
      "execution_count": 14,
      "outputs": []
    },
    {
      "cell_type": "code",
      "source": [
        "model = MLP([\n",
        "            Layer(30, 15),\n",
        "            Layer(15, 15),\n",
        "            Layer(15, 2, activation='softmax'),\n",
        "        ],\n",
        "            0.001,\n",
        "            lossFunction='ce')\n"
      ],
      "metadata": {
        "id": "sevmEtet4NNt"
      },
      "execution_count": 15,
      "outputs": []
    },
    {
      "cell_type": "code",
      "source": [
        "# 796 epochs\n",
        "# 0.992462311557789\n",
        "# 0.9764705882352941\n",
        "\n",
        "model1 = copy.deepcopy(model)\n",
        "model1.train(x_train, y_train, 796, alg='sgd')\n",
        "model1TrainAcc = model1.test(x_train, y_train)\n",
        "model1ValAcc = model1.test(x_validate, y_validate)\n",
        "print(model1TrainAcc)\n",
        "print(model1ValAcc)"
      ],
      "metadata": {
        "colab": {
          "base_uri": "https://localhost:8080/"
        },
        "id": "uMOAsq2E4bTc",
        "outputId": "abdcf990-be73-4e21-d699-37ce36e81bfa"
      },
      "execution_count": 16,
      "outputs": [
        {
          "output_type": "stream",
          "name": "stdout",
          "text": [
            "0.992462311557789\n",
            "0.9764705882352941\n"
          ]
        }
      ]
    },
    {
      "cell_type": "code",
      "source": [
        "# 0.9874371859296482\n",
        "# 0.9764705882352941\n",
        "\n",
        "model2 = copy.deepcopy(model)\n",
        "model2.train(x_train, y_train, 796, regularizers={'l2':0.005, 'l0Lambda':0.005, 'l0Beta':50}, alg='sgd')\n",
        "model2TrainAcc = model2.test(x_train, y_train)\n",
        "model2ValAcc = model2.test(x_validate, y_validate)\n",
        "print(model2TrainAcc)\n",
        "print(model2ValAcc)"
      ],
      "metadata": {
        "colab": {
          "base_uri": "https://localhost:8080/"
        },
        "id": "XYKqWtvh5ERM",
        "outputId": "d7a6dc24-d69c-43d9-ec0f-3d17364841be"
      },
      "execution_count": 17,
      "outputs": [
        {
          "output_type": "stream",
          "name": "stdout",
          "text": [
            "0.9849246231155779\n",
            "0.9764705882352941\n"
          ]
        }
      ]
    },
    {
      "cell_type": "code",
      "source": [
        "# 381 epochs\n",
        "# 0.992462311557789\n",
        "# 0.9764705882352941\n",
        "\n",
        "model3 = copy.deepcopy(model)\n",
        "model3.train(x_train, y_train, 381, alg='adam')\n",
        "model3TrainAcc = model3.test(x_train, y_train)\n",
        "model3ValAcc = model3.test(x_validate, y_validate)\n",
        "print(model3TrainAcc)\n",
        "print(model3ValAcc)"
      ],
      "metadata": {
        "colab": {
          "base_uri": "https://localhost:8080/"
        },
        "id": "46CVk5KH6qkr",
        "outputId": "9bd7d622-7a79-4d98-c1c1-5d06deef4aa8"
      },
      "execution_count": 18,
      "outputs": [
        {
          "output_type": "stream",
          "name": "stdout",
          "text": [
            "0.9899497487437185\n",
            "0.9764705882352941\n"
          ]
        }
      ]
    },
    {
      "cell_type": "code",
      "source": [
        "model4 = copy.deepcopy(model)\n",
        "\n",
        "model4.train(x_train, y_train, 381, regularizers={'l2':0.005, 'l0Lambda':0.005, 'l0Beta':200}, alg='adam')\n",
        "model4TrainAcc = model4.test(x_train, y_train)\n",
        "model4ValAcc = model4.test(x_validate, y_validate)\n",
        "print(model4TrainAcc)\n",
        "print(model4ValAcc)"
      ],
      "metadata": {
        "colab": {
          "base_uri": "https://localhost:8080/"
        },
        "id": "JimW81eY7mmK",
        "outputId": "84f2e68b-8979-4761-8903-7303f444eca7"
      },
      "execution_count": 19,
      "outputs": [
        {
          "output_type": "stream",
          "name": "stdout",
          "text": [
            "0.9874371859296482\n",
            "0.9764705882352941\n"
          ]
        }
      ]
    },
    {
      "cell_type": "code",
      "source": [
        "model5 = copy.deepcopy(model4)\n",
        "model5.pruneSmall(0.5)\n",
        "print(model5.test(x_validate, y_validate))\n",
        "print(model5.test(x_train, y_train))"
      ],
      "metadata": {
        "colab": {
          "base_uri": "https://localhost:8080/"
        },
        "id": "bPzUTeQ_o9fk",
        "outputId": "6940aa96-65e1-4173-b654-ef2734784b82"
      },
      "execution_count": 20,
      "outputs": [
        {
          "output_type": "stream",
          "name": "stdout",
          "text": [
            "0.9764705882352941\n",
            "0.9874371859296482\n"
          ]
        }
      ]
    },
    {
      "cell_type": "code",
      "source": [
        "model1Weights = []\n",
        "for layer in model1.hiddenLayers:\n",
        "    model1Weights += list(layer.weights.flatten())\n",
        "model1Weights += list(model1.outputLayer.weights.flatten())\n",
        "\n",
        "model2Weights = []\n",
        "for layer in model2.hiddenLayers:\n",
        "    model2Weights += list(layer.weights.flatten())\n",
        "model2Weights += list(model2.outputLayer.weights.flatten())\n",
        "\n",
        "model3Weights = []\n",
        "for layer in model3.hiddenLayers:\n",
        "    model3Weights += list(layer.weights.flatten())\n",
        "model3Weights += list(model3.outputLayer.weights.flatten())\n",
        "\n",
        "model4Weights = []\n",
        "for layer in model4.hiddenLayers:\n",
        "    model4Weights += list(layer.weights.flatten())\n",
        "model4Weights += list(model4.outputLayer.weights.flatten())\n",
        "\n",
        "model5Weights = []\n",
        "for layer in model5.hiddenLayers:\n",
        "    model5Weights += list(layer.weights.flatten())\n",
        "model5Weights += list(model5.outputLayer.weights.flatten())"
      ],
      "metadata": {
        "id": "IWwqvk615MUN"
      },
      "execution_count": 21,
      "outputs": []
    },
    {
      "cell_type": "code",
      "source": [
        "bins = np.linspace(-4, 4, 101)\n",
        "\n",
        "sns.histplot(model2Weights, bins=bins, color='#cf0037', kde=True, label=\"GD-Reg\", alpha=0.8)\n",
        "sns.histplot(model1Weights, bins=bins, color='#3865fc', kde=True, label=\"GD-None\")\n",
        "plt.xticks(ticks=range(-4, 5, 1))\n",
        "\n",
        "plt.title(\"Weight Distribution Comparison (GD-None vs. GD-Reg)\")\n",
        "plt.xlabel(\"Weight Value\")\n",
        "plt.legend()\n",
        "plt.show()"
      ],
      "metadata": {
        "colab": {
          "base_uri": "https://localhost:8080/",
          "height": 472
        },
        "id": "fJwm1w_RY_ui",
        "outputId": "282fe9b4-df5b-4d56-f8b1-a3a0f4a7fac0"
      },
      "execution_count": 22,
      "outputs": [
        {
          "output_type": "display_data",
          "data": {
            "text/plain": [
              "<Figure size 640x480 with 1 Axes>"
            ],
            "image/png": "[encoded data removed]"
          },
          "metadata": {}
        }
      ]
    },
    {
      "cell_type": "code",
      "source": [
        "bins = np.linspace(-4, 4, 101)\n",
        "\n",
        "sns.histplot(model3Weights, bins=bins, color='#0ad16e', kde=True, label=\"Adam-None\", alpha=0.8)\n",
        "sns.histplot(model4Weights, bins=bins, color='#990aff', kde=True, label=\"Adam-Reg\")\n",
        "plt.xticks(ticks=range(-4, 5, 1))\n",
        "\n",
        "plt.title(\"Weight Distribution Comparison (Adam-None vs. Adam-Reg)\")\n",
        "plt.xlabel(\"Weight Value\")\n",
        "plt.legend()\n",
        "plt.show()"
      ],
      "metadata": {
        "colab": {
          "base_uri": "https://localhost:8080/",
          "height": 472
        },
        "id": "RZjFIu3itZGz",
        "outputId": "9ff4ff6f-8a9f-4716-dcec-6cc37ffdda2b"
      },
      "execution_count": 23,
      "outputs": [
        {
          "output_type": "display_data",
          "data": {
            "text/plain": [
              "<Figure size 640x480 with 1 Axes>"
            ],
            "image/png": "[encoded data removed]"
          },
          "metadata": {}
        }
      ]
    },
    {
      "cell_type": "code",
      "source": [
        "bins = np.linspace(-4, 4, 101)\n",
        "\n",
        "sns.histplot(model5Weights, bins=bins, color='#fcba03', kde=True, label=\"Adam-Final\", alpha=0.8)\n",
        "sns.histplot(model4Weights, bins=bins, color='#990aff', kde=True, label=\"Adam-Reg\")\n",
        "plt.xticks(ticks=range(-4, 5, 1))\n",
        "\n",
        "plt.title(\"Weight Distribution Comparison (Adam-Reg vs. Adam-Final)\")\n",
        "plt.xlabel(\"Weight Value\")\n",
        "plt.legend()\n",
        "plt.show()"
      ],
      "metadata": {
        "colab": {
          "base_uri": "https://localhost:8080/",
          "height": 472
        },
        "id": "zlg3k81zeyln",
        "outputId": "13a8e8ba-9fd0-451e-b2ec-36f5c9ad5d03"
      },
      "execution_count": 24,
      "outputs": [
        {
          "output_type": "display_data",
          "data": {
            "text/plain": [
              "<Figure size 640x480 with 1 Axes>"
            ],
            "image/png": "[encoded data removed]"
          },
          "metadata": {}
        }
      ]
    },
    {
      "cell_type": "code",
      "source": [
        "bins = np.linspace(-4, 4, 101)\n",
        "\n",
        "sns.histplot(model1Weights, bins=bins, color='#3865fc', kde=True, label=\"GD-None\")\n",
        "sns.histplot(model5Weights, bins=bins, color='#fcba03', kde=True, label=\"Adam-Final\", alpha=0.8)\n",
        "plt.xticks(ticks=range(-4, 5, 1))\n",
        "\n",
        "plt.title(\"Weight Distribution Comparison (GD-None vs. Adam-Final)\")\n",
        "plt.xlabel(\"Weight Value\")\n",
        "plt.legend()\n",
        "plt.show()"
      ],
      "metadata": {
        "colab": {
          "base_uri": "https://localhost:8080/",
          "height": 472
        },
        "id": "gLZOG-fs4mw-",
        "outputId": "75cc98d1-cc80-4b7d-e67b-68bf505b10e2"
      },
      "execution_count": 25,
      "outputs": [
        {
          "output_type": "display_data",
          "data": {
            "text/plain": [
              "<Figure size 640x480 with 1 Axes>"
            ],
            "image/png": "[encoded data removed]"
          },
          "metadata": {}
        }
      ]
    },
    {
      "cell_type": "code",
      "source": [
        "print(model1.test(x_test, y_test))\n",
        "print(model2.test(x_test, y_test))\n",
        "print(model3.test(x_test, y_test))\n",
        "print(model4.test(x_test, y_test))\n",
        "print(model5.test(x_test, y_test))"
      ],
      "metadata": {
        "colab": {
          "base_uri": "https://localhost:8080/"
        },
        "id": "Lri7u4TLrPde",
        "outputId": "a74090d9-e044-40b9-a6dd-e3c8fa2ffc0d"
      },
      "execution_count": 26,
      "outputs": [
        {
          "output_type": "stream",
          "name": "stdout",
          "text": [
            "0.9767441860465116\n",
            "0.9883720930232558\n",
            "0.9883720930232558\n",
            "0.9883720930232558\n",
            "0.9767441860465116\n"
          ]
        }
      ]
    },
    {
      "cell_type": "code",
      "source": [
        "model5ZeroCount = 0\n",
        "for weight in model5Weights:\n",
        "    if weight == 0:\n",
        "        model5ZeroCount += 1\n",
        "\n",
        "print(f\"Model 5 Sparsity: {round(model5ZeroCount/len(model5Weights) * 100, 2)}%\")"
      ],
      "metadata": {
        "colab": {
          "base_uri": "https://localhost:8080/"
        },
        "id": "E4s5BNDZiJvR",
        "outputId": "e7c68895-bc3c-4c25-a190-55ca8126dfee"
      },
      "execution_count": 27,
      "outputs": [
        {
          "output_type": "stream",
          "name": "stdout",
          "text": [
            "Model 5 Sparsity: 61.99%\n"
          ]
        }
      ]
    }
  ]
}